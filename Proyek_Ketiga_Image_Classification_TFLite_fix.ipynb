{
  "nbformat": 4,
  "nbformat_minor": 0,
  "metadata": {
    "colab": {
      "name": "Proyek Ketiga: Image Classification TFLite_fix.ipynb",
      "provenance": [],
      "authorship_tag": "ABX9TyPdEdD7s9sZdbDaDlNCgTIn",
      "include_colab_link": true
    },
    "kernelspec": {
      "name": "python3",
      "display_name": "Python 3"
    },
    "language_info": {
      "name": "python"
    }
  },
  "cells": [
    {
      "cell_type": "markdown",
      "metadata": {
        "id": "view-in-github",
        "colab_type": "text"
      },
      "source": [
        "<a href=\"https://colab.research.google.com/github/dpurbosakti/Dicoding_imageClassification_animalFaces/blob/master/Proyek_Ketiga_Image_Classification_TFLite_fix.ipynb\" target=\"_parent\"><img src=\"https://colab.research.google.com/assets/colab-badge.svg\" alt=\"Open In Colab\"/></a>"
      ]
    },
    {
      "cell_type": "code",
      "metadata": {
        "id": "q0puryqMZ_1y"
      },
      "source": [
        "import numpy as np\n",
        "import pandas as pd\n",
        "import os, zipfile"
      ],
      "execution_count": null,
      "outputs": []
    },
    {
      "cell_type": "code",
      "metadata": {
        "colab": {
          "base_uri": "https://localhost:8080/"
        },
        "id": "eju-D0WoaERA",
        "outputId": "49ad535b-647e-4b13-bae8-f60b27e0d476"
      },
      "source": [
        "from google.colab import drive\n",
        "drive.mount('/content/gdrive')"
      ],
      "execution_count": null,
      "outputs": [
        {
          "output_type": "stream",
          "text": [
            "Mounted at /content/gdrive\n"
          ],
          "name": "stdout"
        }
      ]
    },
    {
      "cell_type": "code",
      "metadata": {
        "id": "UttDWfOTaKXh"
      },
      "source": [
        "os.environ['KAGGLE_CONFIG_DIR']='/content/gdrive/MyDrive/kaggle_dataset'"
      ],
      "execution_count": null,
      "outputs": []
    },
    {
      "cell_type": "code",
      "metadata": {
        "colab": {
          "base_uri": "https://localhost:8080/"
        },
        "id": "snXZNzNwaNzu",
        "outputId": "51a79f7f-4943-4301-e723-95040dc1bffc"
      },
      "source": [
        "%cd /content/gdrive/MyDrive/kaggle_dataset"
      ],
      "execution_count": null,
      "outputs": [
        {
          "output_type": "stream",
          "text": [
            "/content/gdrive/MyDrive/kaggle_dataset\n"
          ],
          "name": "stdout"
        }
      ]
    },
    {
      "cell_type": "code",
      "metadata": {
        "colab": {
          "base_uri": "https://localhost:8080/"
        },
        "id": "3uHptBKAaPmW",
        "outputId": "1bec15bb-5602-4818-f4aa-bca1853139d8"
      },
      "source": [
        "!ls"
      ],
      "execution_count": null,
      "outputs": [
        {
          "output_type": "stream",
          "text": [
            "animal-faces.zip  kaggle.json\n"
          ],
          "name": "stdout"
        }
      ]
    },
    {
      "cell_type": "code",
      "metadata": {
        "colab": {
          "base_uri": "https://localhost:8080/"
        },
        "id": "_ihxbttmaShp",
        "outputId": "a657b178-3f48-4181-e465-0b58a7bfc7d6"
      },
      "source": [
        "!kaggle datasets download -d andrewmvd/animal-faces --force"
      ],
      "execution_count": null,
      "outputs": [
        {
          "output_type": "stream",
          "text": [
            "Downloading animal-faces.zip to /content/gdrive/MyDrive/kaggle_dataset\n",
            "100% 695M/696M [00:14<00:00, 116MB/s]\n",
            "100% 696M/696M [00:14<00:00, 51.5MB/s]\n"
          ],
          "name": "stdout"
        }
      ]
    },
    {
      "cell_type": "code",
      "metadata": {
        "colab": {
          "base_uri": "https://localhost:8080/"
        },
        "id": "KXXke0XiaUYz",
        "outputId": "c75e70f4-9603-4497-f273-d25df71893e8"
      },
      "source": [
        "!ls"
      ],
      "execution_count": null,
      "outputs": [
        {
          "output_type": "stream",
          "text": [
            "animal-faces.zip  kaggle.json\n"
          ],
          "name": "stdout"
        }
      ]
    },
    {
      "cell_type": "code",
      "metadata": {
        "id": "FmnJuUG5azjo"
      },
      "source": [
        "os.mkdir(\"datasets\")"
      ],
      "execution_count": null,
      "outputs": []
    },
    {
      "cell_type": "code",
      "metadata": {
        "id": "-PAWWFX0a7ch",
        "colab": {
          "base_uri": "https://localhost:8080/"
        },
        "outputId": "e8efdfc5-a71f-496b-e0cf-2672aa8139bb"
      },
      "source": [
        "!ls"
      ],
      "execution_count": null,
      "outputs": [
        {
          "output_type": "stream",
          "text": [
            "animal-faces.zip  datasets  kaggle.json\n"
          ],
          "name": "stdout"
        }
      ]
    },
    {
      "cell_type": "code",
      "metadata": {
        "id": "wZfQ0rOGbYfa"
      },
      "source": [
        "zip_ref = zipfile.ZipFile('animal-faces.zip', 'r')\n",
        "zip_ref.extractall('files')\n",
        "zip_ref.close()"
      ],
      "execution_count": null,
      "outputs": []
    },
    {
      "cell_type": "code",
      "metadata": {
        "id": "Lbs5NIKMa8IZ",
        "colab": {
          "base_uri": "https://localhost:8080/"
        },
        "outputId": "acc37af9-17bf-4ab8-e53d-be0b9ae629a5"
      },
      "source": [
        "!pip install split-folders"
      ],
      "execution_count": null,
      "outputs": [
        {
          "output_type": "stream",
          "text": [
            "Collecting split-folders\n",
            "  Downloading https://files.pythonhosted.org/packages/b8/5f/3c2b2f7ea5e047c8cdc3bb00ae582c5438fcdbbedcc23b3cc1c2c7aae642/split_folders-0.4.3-py3-none-any.whl\n",
            "Installing collected packages: split-folders\n",
            "Successfully installed split-folders-0.4.3\n"
          ],
          "name": "stdout"
        }
      ]
    },
    {
      "cell_type": "code",
      "metadata": {
        "id": "Me8P3hBoa_qU",
        "colab": {
          "base_uri": "https://localhost:8080/"
        },
        "outputId": "9c0aaae4-72ad-42cf-9dbe-af2a4c6d280e"
      },
      "source": [
        "import splitfolders\n",
        "input_folder = \"files/afhq/train\"\n",
        "output = \"datasets\" \n",
        "\n",
        "splitfolders.ratio(input_folder, output=output, seed=42, ratio=(0.8, 0.2))"
      ],
      "execution_count": null,
      "outputs": [
        {
          "output_type": "stream",
          "text": [
            "Copying files: 14630 files [04:03, 60.10 files/s]\n"
          ],
          "name": "stderr"
        }
      ]
    },
    {
      "cell_type": "code",
      "metadata": {
        "id": "QeEN7xh8c3Cb"
      },
      "source": [
        "from tensorflow.keras.preprocessing.image import ImageDataGenerator\n",
        "DIR = 'datasets/train'\n",
        "train_datagen = ImageDataGenerator(\n",
        "                    rescale=1./255,\n",
        "                    rotation_range=40,\n",
        "                    horizontal_flip=True,\n",
        "                    shear_range=0.2,\n",
        "                    fill_mode = 'nearest',\n",
        "                    validation_split=0.2,)"
      ],
      "execution_count": null,
      "outputs": []
    },
    {
      "cell_type": "code",
      "metadata": {
        "id": "M8kl8afCdogX",
        "colab": {
          "base_uri": "https://localhost:8080/"
        },
        "outputId": "daac96db-e8fc-4375-b80e-4e8c050540ca"
      },
      "source": [
        "train_generator = train_datagen.flow_from_directory(\n",
        "        DIR,  \n",
        "        subset='training',\n",
        "        target_size=(100, 150), \n",
        "        shuffle=True,\n",
        "        class_mode='categorical')\n",
        "\n",
        "validation_generator = train_datagen.flow_from_directory(\n",
        "        DIR, \n",
        "        subset='validation',\n",
        "        target_size=(100, 150),\n",
        "        batch_size=32,\n",
        "        class_mode='categorical')"
      ],
      "execution_count": null,
      "outputs": [
        {
          "output_type": "stream",
          "text": [
            "Found 9363 images belonging to 3 classes.\n",
            "Found 2340 images belonging to 3 classes.\n"
          ],
          "name": "stdout"
        }
      ]
    },
    {
      "cell_type": "code",
      "metadata": {
        "id": "e3rBhzemdxWl"
      },
      "source": [
        "import tensorflow as tf\n",
        "model = tf.keras.models.Sequential([\n",
        "    tf.keras.layers.Conv2D(16, (3,3), activation='relu', input_shape=(100, 150, 3)),\n",
        "    tf.keras.layers.MaxPooling2D(2, 2),\n",
        "    tf.keras.layers.Conv2D(32, (3,3), activation='relu'),\n",
        "    tf.keras.layers.MaxPooling2D(2,2),\n",
        "    tf.keras.layers.Conv2D(64, (3,3), activation='relu'),\n",
        "    tf.keras.layers.MaxPooling2D(2,2),\n",
        "    tf.keras.layers.Conv2D(128, (3,3), activation='relu'),\n",
        "    tf.keras.layers.MaxPooling2D(2,2),\n",
        "    tf.keras.layers.Flatten(),\n",
        "    tf.keras.layers.Dropout(0.5),\n",
        "    tf.keras.layers.Dense(512, activation='relu'),\n",
        "    tf.keras.layers.Dense(3, activation='softmax')       \n",
        "])"
      ],
      "execution_count": null,
      "outputs": []
    },
    {
      "cell_type": "code",
      "metadata": {
        "id": "S_AeSjvQd1Qf"
      },
      "source": [
        "model.compile(loss='categorical_crossentropy',\n",
        "               optimizer=tf.keras.optimizers.Adam(learning_rate=0.001),\n",
        "               metrics=['accuracy'])"
      ],
      "execution_count": null,
      "outputs": []
    },
    {
      "cell_type": "code",
      "metadata": {
        "id": "9qH228I4d3dd"
      },
      "source": [
        "def scheduler(epoch, lr):\n",
        "  if epoch < 5:\n",
        "    return lr\n",
        "  else:\n",
        "    return lr * tf.math.exp(-0.1)\n",
        "\n",
        "lr_schedule = tf.keras.callbacks.LearningRateScheduler(scheduler, verbose=1)\n",
        "tb_callback = tf.keras.callbacks.TensorBoard(\n",
        "    log_dir='logs', histogram_freq=0, write_graph=True, write_images=False,\n",
        "    update_freq='epoch', embeddings_freq=0,\n",
        "    embeddings_metadata=None\n",
        ")"
      ],
      "execution_count": null,
      "outputs": []
    },
    {
      "cell_type": "code",
      "metadata": {
        "id": "mFKm-4mSeG5K",
        "colab": {
          "base_uri": "https://localhost:8080/"
        },
        "outputId": "a6c1d826-06ab-4322-cfe5-2e8da1323091"
      },
      "source": [
        "model.summary()"
      ],
      "execution_count": null,
      "outputs": [
        {
          "output_type": "stream",
          "text": [
            "Model: \"sequential\"\n",
            "_________________________________________________________________\n",
            "Layer (type)                 Output Shape              Param #   \n",
            "=================================================================\n",
            "conv2d (Conv2D)              (None, 98, 148, 16)       448       \n",
            "_________________________________________________________________\n",
            "max_pooling2d (MaxPooling2D) (None, 49, 74, 16)        0         \n",
            "_________________________________________________________________\n",
            "conv2d_1 (Conv2D)            (None, 47, 72, 32)        4640      \n",
            "_________________________________________________________________\n",
            "max_pooling2d_1 (MaxPooling2 (None, 23, 36, 32)        0         \n",
            "_________________________________________________________________\n",
            "conv2d_2 (Conv2D)            (None, 21, 34, 64)        18496     \n",
            "_________________________________________________________________\n",
            "max_pooling2d_2 (MaxPooling2 (None, 10, 17, 64)        0         \n",
            "_________________________________________________________________\n",
            "conv2d_3 (Conv2D)            (None, 8, 15, 128)        73856     \n",
            "_________________________________________________________________\n",
            "max_pooling2d_3 (MaxPooling2 (None, 4, 7, 128)         0         \n",
            "_________________________________________________________________\n",
            "flatten (Flatten)            (None, 3584)              0         \n",
            "_________________________________________________________________\n",
            "dropout (Dropout)            (None, 3584)              0         \n",
            "_________________________________________________________________\n",
            "dense (Dense)                (None, 512)               1835520   \n",
            "_________________________________________________________________\n",
            "dense_1 (Dense)              (None, 3)                 1539      \n",
            "=================================================================\n",
            "Total params: 1,934,499\n",
            "Trainable params: 1,934,499\n",
            "Non-trainable params: 0\n",
            "_________________________________________________________________\n"
          ],
          "name": "stdout"
        }
      ]
    },
    {
      "cell_type": "code",
      "metadata": {
        "id": "CxM4FPlWeIII",
        "colab": {
          "base_uri": "https://localhost:8080/"
        },
        "outputId": "36ee7724-a578-47ae-b242-4a583fe76ffd"
      },
      "source": [
        "batch_size = 16\n",
        "\n",
        "hist = model.fit(train_generator, \n",
        "  epochs =  30, \n",
        "  steps_per_epoch = 660//batch_size, \n",
        "  validation_data = validation_generator, \n",
        "  verbose = 1, \n",
        "  validation_steps = 437//batch_size,\n",
        "  callbacks =[lr_schedule, tb_callback])"
      ],
      "execution_count": null,
      "outputs": [
        {
          "output_type": "stream",
          "text": [
            "Epoch 1/30\n",
            "\n",
            "Epoch 00001: LearningRateScheduler reducing learning rate to 0.0010000000474974513.\n",
            "41/41 [==============================] - 42s 998ms/step - loss: 1.0565 - accuracy: 0.4329 - val_loss: 0.9666 - val_accuracy: 0.4988\n",
            "Epoch 2/30\n",
            "\n",
            "Epoch 00002: LearningRateScheduler reducing learning rate to 0.0010000000474974513.\n",
            "41/41 [==============================] - 41s 992ms/step - loss: 0.8659 - accuracy: 0.5953 - val_loss: 0.8197 - val_accuracy: 0.6632\n",
            "Epoch 3/30\n",
            "\n",
            "Epoch 00003: LearningRateScheduler reducing learning rate to 0.0010000000474974513.\n",
            "41/41 [==============================] - 50s 1s/step - loss: 0.6906 - accuracy: 0.7058 - val_loss: 0.5920 - val_accuracy: 0.7535\n",
            "Epoch 4/30\n",
            "\n",
            "Epoch 00004: LearningRateScheduler reducing learning rate to 0.0010000000474974513.\n",
            "41/41 [==============================] - 51s 1s/step - loss: 0.6141 - accuracy: 0.7447 - val_loss: 0.4882 - val_accuracy: 0.8171\n",
            "Epoch 5/30\n",
            "\n",
            "Epoch 00005: LearningRateScheduler reducing learning rate to 0.0010000000474974513.\n",
            "41/41 [==============================] - 55s 1s/step - loss: 0.4871 - accuracy: 0.8079 - val_loss: 0.5573 - val_accuracy: 0.7662\n",
            "Epoch 6/30\n",
            "\n",
            "Epoch 00006: LearningRateScheduler reducing learning rate to tf.Tensor(0.00090483745, shape=(), dtype=float32).\n",
            "41/41 [==============================] - 50s 1s/step - loss: 0.4256 - accuracy: 0.8262 - val_loss: 0.4349 - val_accuracy: 0.8345\n",
            "Epoch 7/30\n",
            "\n",
            "Epoch 00007: LearningRateScheduler reducing learning rate to tf.Tensor(0.0008187308, shape=(), dtype=float32).\n",
            "41/41 [==============================] - 51s 1s/step - loss: 0.3959 - accuracy: 0.8468 - val_loss: 0.3729 - val_accuracy: 0.8681\n",
            "Epoch 8/30\n",
            "\n",
            "Epoch 00008: LearningRateScheduler reducing learning rate to tf.Tensor(0.0007408183, shape=(), dtype=float32).\n",
            "41/41 [==============================] - 45s 1s/step - loss: 0.3510 - accuracy: 0.8720 - val_loss: 0.3753 - val_accuracy: 0.8495\n",
            "Epoch 9/30\n",
            "\n",
            "Epoch 00009: LearningRateScheduler reducing learning rate to tf.Tensor(0.0006703201, shape=(), dtype=float32).\n",
            "41/41 [==============================] - 52s 1s/step - loss: 0.3391 - accuracy: 0.8742 - val_loss: 0.3527 - val_accuracy: 0.8623\n",
            "Epoch 10/30\n",
            "\n",
            "Epoch 00010: LearningRateScheduler reducing learning rate to tf.Tensor(0.00060653075, shape=(), dtype=float32).\n",
            "41/41 [==============================] - 44s 1s/step - loss: 0.3442 - accuracy: 0.8659 - val_loss: 0.3005 - val_accuracy: 0.8981\n",
            "Epoch 11/30\n",
            "\n",
            "Epoch 00011: LearningRateScheduler reducing learning rate to tf.Tensor(0.00054881175, shape=(), dtype=float32).\n",
            "41/41 [==============================] - 52s 1s/step - loss: 0.2837 - accuracy: 0.8910 - val_loss: 0.2624 - val_accuracy: 0.8993\n",
            "Epoch 12/30\n",
            "\n",
            "Epoch 00012: LearningRateScheduler reducing learning rate to tf.Tensor(0.0004965854, shape=(), dtype=float32).\n",
            "41/41 [==============================] - 43s 1s/step - loss: 0.2992 - accuracy: 0.8826 - val_loss: 0.2777 - val_accuracy: 0.8947\n",
            "Epoch 13/30\n",
            "\n",
            "Epoch 00013: LearningRateScheduler reducing learning rate to tf.Tensor(0.00044932903, shape=(), dtype=float32).\n",
            "41/41 [==============================] - 43s 1s/step - loss: 0.2903 - accuracy: 0.8941 - val_loss: 0.2897 - val_accuracy: 0.8889\n",
            "Epoch 14/30\n",
            "\n",
            "Epoch 00014: LearningRateScheduler reducing learning rate to tf.Tensor(0.0004065697, shape=(), dtype=float32).\n",
            "41/41 [==============================] - 44s 1s/step - loss: 0.2726 - accuracy: 0.8979 - val_loss: 0.2568 - val_accuracy: 0.9097\n",
            "Epoch 15/30\n",
            "\n",
            "Epoch 00015: LearningRateScheduler reducing learning rate to tf.Tensor(0.0003678795, shape=(), dtype=float32).\n",
            "41/41 [==============================] - 52s 1s/step - loss: 0.2309 - accuracy: 0.9162 - val_loss: 0.2743 - val_accuracy: 0.8854\n",
            "Epoch 16/30\n",
            "\n",
            "Epoch 00016: LearningRateScheduler reducing learning rate to tf.Tensor(0.00033287113, shape=(), dtype=float32).\n",
            "41/41 [==============================] - 43s 1s/step - loss: 0.2260 - accuracy: 0.9284 - val_loss: 0.2374 - val_accuracy: 0.8970\n",
            "Epoch 17/30\n",
            "\n",
            "Epoch 00017: LearningRateScheduler reducing learning rate to tf.Tensor(0.00030119426, shape=(), dtype=float32).\n",
            "41/41 [==============================] - 45s 1s/step - loss: 0.2229 - accuracy: 0.9192 - val_loss: 0.2499 - val_accuracy: 0.9005\n",
            "Epoch 18/30\n",
            "\n",
            "Epoch 00018: LearningRateScheduler reducing learning rate to tf.Tensor(0.00027253185, shape=(), dtype=float32).\n",
            "41/41 [==============================] - 52s 1s/step - loss: 0.2326 - accuracy: 0.9169 - val_loss: 0.2375 - val_accuracy: 0.9132\n",
            "Epoch 19/30\n",
            "\n",
            "Epoch 00019: LearningRateScheduler reducing learning rate to tf.Tensor(0.00024659702, shape=(), dtype=float32).\n",
            "41/41 [==============================] - 51s 1s/step - loss: 0.2077 - accuracy: 0.9215 - val_loss: 0.2504 - val_accuracy: 0.8981\n",
            "Epoch 20/30\n",
            "\n",
            "Epoch 00020: LearningRateScheduler reducing learning rate to tf.Tensor(0.0002231302, shape=(), dtype=float32).\n",
            "41/41 [==============================] - 42s 1s/step - loss: 0.1811 - accuracy: 0.9315 - val_loss: 0.2544 - val_accuracy: 0.9109\n",
            "Epoch 21/30\n",
            "\n",
            "Epoch 00021: LearningRateScheduler reducing learning rate to tf.Tensor(0.00020189656, shape=(), dtype=float32).\n",
            "41/41 [==============================] - 52s 1s/step - loss: 0.1826 - accuracy: 0.9352 - val_loss: 0.2536 - val_accuracy: 0.9074\n",
            "Epoch 22/30\n",
            "\n",
            "Epoch 00022: LearningRateScheduler reducing learning rate to tf.Tensor(0.00018268357, shape=(), dtype=float32).\n",
            "41/41 [==============================] - 50s 1s/step - loss: 0.1878 - accuracy: 0.9299 - val_loss: 0.2096 - val_accuracy: 0.9178\n",
            "Epoch 23/30\n",
            "\n",
            "Epoch 00023: LearningRateScheduler reducing learning rate to tf.Tensor(0.00016529893, shape=(), dtype=float32).\n",
            "41/41 [==============================] - 51s 1s/step - loss: 0.2176 - accuracy: 0.9169 - val_loss: 0.2091 - val_accuracy: 0.9259\n",
            "Epoch 24/30\n",
            "\n",
            "Epoch 00024: LearningRateScheduler reducing learning rate to tf.Tensor(0.00014956866, shape=(), dtype=float32).\n",
            "41/41 [==============================] - 50s 1s/step - loss: 0.1839 - accuracy: 0.9398 - val_loss: 0.2140 - val_accuracy: 0.9190\n",
            "Epoch 25/30\n",
            "\n",
            "Epoch 00025: LearningRateScheduler reducing learning rate to tf.Tensor(0.00013533531, shape=(), dtype=float32).\n",
            "41/41 [==============================] - 50s 1s/step - loss: 0.1741 - accuracy: 0.9314 - val_loss: 0.1960 - val_accuracy: 0.9329\n",
            "Epoch 26/30\n",
            "\n",
            "Epoch 00026: LearningRateScheduler reducing learning rate to tf.Tensor(0.00012245646, shape=(), dtype=float32).\n",
            "41/41 [==============================] - 52s 1s/step - loss: 0.2225 - accuracy: 0.9268 - val_loss: 0.2264 - val_accuracy: 0.9271\n",
            "Epoch 27/30\n",
            "\n",
            "Epoch 00027: LearningRateScheduler reducing learning rate to tf.Tensor(0.000110803194, shape=(), dtype=float32).\n",
            "41/41 [==============================] - 52s 1s/step - loss: 0.1611 - accuracy: 0.9444 - val_loss: 0.2218 - val_accuracy: 0.9201\n",
            "Epoch 28/30\n",
            "\n",
            "Epoch 00028: LearningRateScheduler reducing learning rate to tf.Tensor(0.000100258876, shape=(), dtype=float32).\n",
            "41/41 [==============================] - 47s 1s/step - loss: 0.1675 - accuracy: 0.9451 - val_loss: 0.1841 - val_accuracy: 0.9398\n",
            "Epoch 29/30\n",
            "\n",
            "Epoch 00029: LearningRateScheduler reducing learning rate to tf.Tensor(9.0717986e-05, shape=(), dtype=float32).\n",
            "41/41 [==============================] - 46s 1s/step - loss: 0.1847 - accuracy: 0.9292 - val_loss: 0.1999 - val_accuracy: 0.9225\n",
            "Epoch 30/30\n",
            "\n",
            "Epoch 00030: LearningRateScheduler reducing learning rate to tf.Tensor(8.2085025e-05, shape=(), dtype=float32).\n",
            "41/41 [==============================] - 54s 1s/step - loss: 0.1877 - accuracy: 0.9322 - val_loss: 0.1918 - val_accuracy: 0.9317\n"
          ],
          "name": "stdout"
        }
      ]
    },
    {
      "cell_type": "code",
      "metadata": {
        "id": "bxqI9etGgosn",
        "colab": {
          "base_uri": "https://localhost:8080/",
          "height": 295
        },
        "outputId": "7a70a4c0-6d90-4f51-8e6d-24e252e9d2ec"
      },
      "source": [
        "import matplotlib.pyplot as plt\n",
        "\n",
        "plt.plot(hist.history['loss'], label='loss')\n",
        "plt.plot(hist.history['accuracy'], label='accuracy')\n",
        "plt.plot(hist.history['val_loss'], label='val_loss')\n",
        "plt.plot(hist.history['val_accuracy'], label='val_accuracy')\n",
        "plt.title('Train and Validation')\n",
        "plt.ylabel('loss')\n",
        "plt.xlabel('Epoch')\n",
        "plt.legend(loc='center right')\n",
        "plt.show()"
      ],
      "execution_count": null,
      "outputs": [
        {
          "output_type": "display_data",
          "data": {
            "image/png": "[encoded data removed]",
            "text/plain": [
              "<Figure size 432x288 with 1 Axes>"
            ]
          },
          "metadata": {
            "tags": [],
            "needs_background": "light"
          }
        }
      ]
    },
    {
      "cell_type": "code",
      "metadata": {
        "id": "0B-s-Gl2iV2Q",
        "colab": {
          "base_uri": "https://localhost:8080/"
        },
        "outputId": "ef88bfac-eb66-4c28-c625-25128b047828"
      },
      "source": [
        "converter = tf.lite.TFLiteConverter.from_keras_model(model)\n",
        "tflite_model = converter.convert()\n",
        "\n",
        "with tf.io.gfile.GFile('imageclasmodel.tflite', 'wb') as f:\n",
        "  f.write(tflite_model)"
      ],
      "execution_count": null,
      "outputs": [
        {
          "output_type": "stream",
          "text": [
            "INFO:tensorflow:Assets written to: /tmp/tmp__owi8i0/assets\n"
          ],
          "name": "stdout"
        }
      ]
    },
    {
      "cell_type": "markdown",
      "metadata": {
        "id": "nmUhTXw6iduZ"
      },
      "source": [
        "Dwi Atmoko Purbo Sakti [Profile Dicoding](https://www.dicoding.com/users/dwi_atmoko)"
      ]
    }
  ]
}